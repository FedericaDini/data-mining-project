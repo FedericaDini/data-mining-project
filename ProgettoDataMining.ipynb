{
 "cells": [
  {
   "cell_type": "code",
   "execution_count": null,
   "metadata": {
    "id": "Hqam3MXpd_2U"
   },
   "outputs": [],
   "source": [
    "# xclara: C = 3, |D| = 3000, F = 2\n",
    "# s-set1: C = 15, |D| = 5000, F = 2\n",
    "# pendigits: C = 10, |D| = 10992, F = 16\n",
    "# waveform: C = 3, |D| = 5000, F = 21"
   ]
  },
  {
   "cell_type": "code",
   "execution_count": 6,
   "metadata": {
    "colab": {
     "base_uri": "https://localhost:8080/",
     "height": 486
    },
    "executionInfo": {
     "elapsed": 20,
     "status": "error",
     "timestamp": 1640250272465,
     "user": {
      "displayName": "FEDERICA DINI",
      "photoUrl": "https://lh3.googleusercontent.com/a/default-user=s64",
      "userId": "11537214488883606636"
     },
     "user_tz": -60
    },
    "id": "OGhrhJkzd_2Z",
    "outputId": "77beb395-f573-497b-c6c2-646308b9678a"
   },
   "outputs": [
    {
     "name": "stdout",
     "output_type": "stream",
     "text": [
      "xclara\n",
      "n_cluster 3\n",
      "n_feature 2\n",
      "n_data 3000\n"
     ]
    }
   ],
   "source": [
    "import pandas as pd\n",
    "from matplotlib import pyplot as plt\n",
    "import itertools\n",
    "from scipy.spatial.distance import cdist\n",
    "from scipy.optimize import linear_sum_assignment as linear_assignment\n",
    "\n",
    "#Choice of the dataset\n",
    "ds = 'xclara' #'xclara','s-set1','pendigits','waveform'\n",
    "\n",
    "df = pd.read_csv(f'dataset/{ds}.csv')\n",
    "\n",
    "print(ds)\n",
    "print('n_cluster',len(df.iloc[:,-1].value_counts()))\n",
    "print('n_feature',df.shape[1]-1)\n",
    "print ('n_data', len(df.index))\n",
    "\n",
    "N_clusters = len(df.iloc[:,-1].value_counts())\n",
    "N_features = df.shape[1]-1\n",
    "N_data = len(df.index)"
   ]
  },
  {
   "cell_type": "markdown",
   "metadata": {
    "id": "s4oBQpP_d_2a"
   },
   "source": [
    "# **Parameters setting**"
   ]
  },
  {
   "cell_type": "code",
   "execution_count": null,
   "metadata": {
    "id": "dJh8_vood_2b"
   },
   "outputs": [],
   "source": [
    "#Setting of the seeds to make the experiment reproducible\n",
    "random_state = centers_seed = random_clients_seed = iid_seed = shuffle_seed = 2 #123\n",
    "\n",
    "#Setting of the learning rate\n",
    "alpha = 0.001\n",
    "\n",
    "#Setting of the max number of rounds\n",
    "max_number_rounds:int = 30\n",
    "    \n",
    "#Setting of the distribution of data - iid=uniform, noniid=non uniform\n",
    "mode = 'iid' # iid  |  non_iid_volume  |  non_iid_distr"
   ]
  },
  {
   "cell_type": "markdown",
   "metadata": {
    "id": "_4VgIceHd_2c"
   },
   "source": [
    "# **Some functions**"
   ]
  },
  {
   "cell_type": "code",
   "execution_count": 4,
   "metadata": {
    "id": "VFZLUSVJd_2d"
   },
   "outputs": [],
   "source": [
    "from abc import ABC, abstractmethod\n",
    "from typing import Callable, Dict, List, Optional, Tuple\n",
    "import numpy as np\n",
    "import pandas as pd\n",
    "from scipy.io import arff\n",
    "import math\n",
    "from random import randint\n",
    "\n",
    "from sklearn.metrics import adjusted_rand_score as ARI\n",
    "FROBENIUS_NORM = 'fro'\n",
    "\n",
    "#This function returns the frobenius norm\n",
    "def norm_fro(u:np.ndarray):\n",
    "    return np.linalg.norm(u, ord = FROBENIUS_NORM)\n",
    "\n",
    "#This function performs the frobenius norm between 2 numpy arrays u and v\n",
    "# hungarian method (https://smorbieu.gitlab.io/accuracy-from-classification-to-clustering-evaluation/)\n",
    "def perm_norm_fro(u:np.ndarray, v:np.ndarray):\n",
    "    cm = cdist(u, v)\n",
    "    indexes = linear_assignment(cm)\n",
    "    indexes = np.transpose(indexes)\n",
    "    js = [e[1] for e in sorted(indexes, key=lambda x: x[0])]\n",
    "    v = np.asarray(v)\n",
    "    original_norm = np.linalg.norm(u-v, ord = FROBENIUS_NORM)\n",
    "    permuted_norm = np.linalg.norm(u-v[js], ord = FROBENIUS_NORM)\n",
    "    return permuted_norm\n",
    "\n",
    "#This function generates random centers for our clusters\n",
    "def generate_random_centers(seed: int, n_clusters: int, n_features: int):\n",
    "    import numpy as np\n",
    "    np.random.seed(seed)\n",
    "    centers = np.random.rand(n_clusters,n_features)\n",
    "    return centers"
   ]
  },
  {
   "cell_type": "markdown",
   "metadata": {
    "id": "NVEe_I43d_2e"
   },
   "source": [
    "# **FederatedFCMeansClient**"
   ]
  },
  {
   "cell_type": "code",
   "execution_count": null,
   "metadata": {
    "id": "2hnJNh6ud_2f"
   },
   "outputs": [],
   "source": [
    "class FCMeansFederatedClient:\n",
    "\n",
    "    def initialize(self, params: Dict) -> None:\n",
    "        self.__dataset = params['dataset']\n",
    "        self.__num_features = len(self.__dataset[0])\n",
    "        self.__classes = [-1] * len(self.__dataset)\n",
    "        self.__distance_fn = params['distance_fn']\n",
    "        self.__factor_lambda = params['factor_lambda']\n",
    "        self.y_true = params['y_true']\n",
    "        \n",
    "    def evaluate_cluster_assignment(self, centers: List) -> List[Tuple]:\n",
    "        return self.__local_sums(centers)\n",
    "\n",
    "    def finalize(self, centers: List[np.array]) -> None:\n",
    "        \n",
    "\n",
    "    def __local_sums(self, centers: List[np.array]):\n",
    "        \n"
   ]
  },
  {
   "cell_type": "markdown",
   "metadata": {
    "id": "gVW7L_eRd_2g"
   },
   "source": [
    "# **FederatedFCMeansServer**"
   ]
  },
  {
   "cell_type": "code",
   "execution_count": 7,
   "metadata": {
    "id": "emcPoef8d_2g"
   },
   "outputs": [],
   "source": [
    "class FCMeansFederatedServer:\n",
    "\n",
    "    def __init__(self):\n",
    "        self.__current_round = 0\n",
    "\n",
    "    #Initialization of the parameters used by the server side\n",
    "    def initialize(self, params: Dict) -> None:\n",
    "        self.__alpha = params['alpha']\n",
    "        self.__max_number_rounds = params.get('max_number_rounds', 10)\n",
    "        self.__num_clusters = params['num_clusters']\n",
    "        self.__num_features = params['num_features']\n",
    "        self.__num_data = params['num_data']\n",
    "        self.__norm_fm = params['norm_fn']\n",
    "        self.__fnorms = []\n",
    "        self.__cluster_centers = []\n",
    "        self.__cluster_centers.append(params['centers'])\n",
    "\n",
    "    #Final steps to pass to the next round    \n",
    "    def next_round(self) -> bool:\n",
    "        num_clusters = self.__num_clusters\n",
    "        cluster_centers = self.__cluster_centers\n",
    "        num_centers = len(cluster_centers)\n",
    "        \n",
    "        #Compute and save the frobenius norm for this round\n",
    "        if (num_centers > 1):\n",
    "            centers_r = np.array(cluster_centers[-1])\n",
    "            centers_r_1 = np.array(cluster_centers[-2])\n",
    "            tot_diff_sum = self.__norm_fm(centers_r - centers_r_1)\n",
    "            self.__fnorms.append(tot_diff_sum)\n",
    "        \n",
    "        #Update the number of rounds\n",
    "        result = self.__current_round < self.__max_number_rounds\n",
    "        self.__current_round = self.__current_round + 1 if result else 0\n",
    "        \n",
    "        #Check if we can pass to a next round\n",
    "        return result\n",
    "\n",
    "    # lista di gii (uno per ogni client) e attuali valori dei centri, più alpha\n",
    "    def process_clustering_results(self, client_responses: List):\n",
    "        \n",
    "        #client_responses is a list of lists in the form (gii, Nii)\n",
    "        #gii is the gradient function of the client\n",
    "        #Nii is the size of the data in the client\n",
    "    \n",
    "        num_clients = len(client_responses)\n",
    "        num_clusters = self.__num_clusters\n",
    "        #At each round the centers are appended to cluster_centers\n",
    "        cluster_centers = self.__cluster_centers\n",
    "        N = self.__num_data\n",
    "        alpha = self.__alpha\n",
    "        \n",
    "        new_centers = []\n",
    "        \n",
    "        #Compute the new centers of the clusters\n",
    "        for center in range(cluster_centers[-1]):\n",
    "            \n",
    "            summation = 0\n",
    "            \n",
    "            for client_idx in range(num_clients):\n",
    "                client_idx_response = client_responses[client_idx]\n",
    "                gii = client_idx_response[client_idx, 0]\n",
    "                Nii = client_idx_response[client_idx, 1]\n",
    "                betaii = Nii / N\n",
    "                #This is the contribution of a client for a center\n",
    "                client_contribution = betaii * gii(center)\n",
    "                #This is the summation of the contributions of each client for a center\n",
    "                summation = summation + client_contribution\n",
    "                \n",
    "            new_center = center - alpha * summation\n",
    "            new_centers.append(np.array(new_center))\n",
    "        \n",
    "        #Append the new centers after the previous ones\n",
    "        cluster_centers.append(new_centers)\n",
    "    \n",
    "        \n",
    "        \n",
    "    def get_centers(self) -> List:\n",
    "        return self.__cluster_centers[-1]\n",
    "\n",
    "    def current_round(self) -> int:\n",
    "        return self.__current_round\n",
    "\n",
    "    def finalize(self, enabled_print: bool = False) -> None:\n",
    "        \"\"\" HERE WE CAN SAVE FOR EACH ROUND THE VALUES OF THE CENTERS \"\"\"\n",
    "        centers = self.__cluster_centers[1:]\n",
    "        fnorms = self.__fnorms\n",
    "        \n",
    "        # Print the plot of the frobenius norm\n",
    "        if (enabled_print):\n",
    "            if N_features ==2:\n",
    "                for i in range(len(centers)):\n",
    "                    plt.figure()\n",
    "                    plt.title(f\"round {i}, Frobenius norm {fnorms[i]:.15f}\")\n",
    "                    plt.scatter(X[:,0],X[:,1])\n",
    "                    plt.scatter(np.asarray(centers[i])[:,0],np.asarray(centers[i])[:,1],s = 30)\n",
    "                    \n",
    "        return (fnorms, centers)\n",
    "    "
   ]
  },
  {
   "cell_type": "markdown",
   "metadata": {
    "id": "LtQhadj3d_2h"
   },
   "source": [
    "# **Generation of the chunks (iid/non iid)**"
   ]
  },
  {
   "cell_type": "code",
   "execution_count": 10,
   "metadata": {
    "id": "yh-qRY_ld_2h"
   },
   "outputs": [],
   "source": [
    "from sklearn.model_selection import StratifiedKFold\n",
    "from sklearn.utils import shuffle as shuffleSK\n",
    "\n",
    "#Generate iid/non iid distributed chuncks of data\n",
    "def generate_dataset_chunks(X: np.array, \n",
    "                            Y: np.array, \n",
    "                            n_splits: int, \n",
    "                            shuffle: bool = False, \n",
    "                            shuffle_seed:int = None, \n",
    "                            mode: str = 'iid', \n",
    "                            iid_seed: int = None):\n",
    "    if (n_splits == 1):\n",
    "        return [X],[Y],[]\n",
    "    \n",
    "    dataset_chunks = []\n",
    "    y_chunks = []\n",
    "    all_indices = []\n",
    "\n",
    "    if mode == 'iid':\n",
    "        \n",
    "        #Provides the indices to split train/test sets \n",
    "        skf = StratifiedKFold(n_splits = n_splits, shuffle = shuffle, random_state = iid_seed)\n",
    "        \n",
    "        #train_index and test_index are made of 2 indices each one\n",
    "        #We use the test set as a chunk (because the test sets produced by the kfold are not overlapped)\n",
    "        for train_index, test_index in skf.split(X, Y):\n",
    "            dataset_chunks.append(X[test_index])\n",
    "            y_chunks.append(Y[test_index])\n",
    "            all_indices.extend(test_index)\n",
    "    \n",
    "    #Not used for the project\n",
    "    '''\n",
    "    elif mode == 'non_iid_volume':\n",
    "        \n",
    "        X, Y = shuffleSK(X,Y, random_state = shuffle_seed)\n",
    "        \n",
    "        factor = 1.2\n",
    "        total = len(X)-int(np.floor(len(X)/factor))\n",
    "        print(total)\n",
    "        temp = []\n",
    "        \n",
    "        for i in range(n_splits-1):\n",
    "            val = np.random.randint(0, total)\n",
    "            temp.append(val)\n",
    "            total -= val\n",
    "            \n",
    "        temp.append(total)\n",
    "        nums = [z+int(np.floor(len(X)/factor/n_splits)) for z in temp]\n",
    "        cumsum = list(np.cumsum(nums))\n",
    "        old = [x for x in cumsum]\n",
    "        cumsum.pop(-1)\n",
    "        cumsum.insert(0,0)\n",
    "        \n",
    "        for s,e in zip(cumsum,old):\n",
    "            dataset_chunks.append(X[s:e])\n",
    "            y_chunks.append(Y[s:e])\n",
    "            \n",
    "    elif mode == 'non_iid_distr':\n",
    "        dataset_chunks = [X[i:i + int(np.floor(len(X)/n_splits)),:] for i in range(0, len(X), int(np.floor(len(X)/n_splits)))]\n",
    "        y_chunks.append([Y[i:i + int(np.floor(len(X)/n_splits)),:] for i in range(0, len(X), int(np.floor(len(X)/n_splits)))])\n",
    "    '''\n",
    "    \n",
    "    return dataset_chunks,y_chunks, all_indices\n"
   ]
  },
  {
   "cell_type": "markdown",
   "metadata": {
    "id": "zjEeH9y8d_2i"
   },
   "source": [
    "# **Dataset Initialization**"
   ]
  },
  {
   "cell_type": "code",
   "execution_count": 13,
   "metadata": {
    "id": "V7MmsKmFd_2i"
   },
   "outputs": [
    {
     "data": {
      "text/plain": [
       "2    1156\n",
       "0     952\n",
       "1     892\n",
       "Name: c, dtype: int64"
      ]
     },
     "execution_count": 13,
     "metadata": {},
     "output_type": "execute_result"
    }
   ],
   "source": [
    "X_original = df.iloc[:,:-1].values\n",
    "Y = df.iloc[:,-1].values\n",
    "df.iloc[:,-1].value_counts()\n",
    "\n",
    "#Print the number of elements contained in each real cluster"
   ]
  },
  {
   "cell_type": "markdown",
   "metadata": {
    "id": "WTCxqB24d_2j"
   },
   "source": [
    "# **Plot of points with 2 not normalized features (x and y axis)**"
   ]
  },
  {
   "cell_type": "code",
   "execution_count": 14,
   "metadata": {
    "id": "fXPC67cAd_2j"
   },
   "outputs": [
    {
     "data": {
      "image/png": "[encoded data removed]",
      "text/plain": [
       "<Figure size 432x288 with 1 Axes>"
      ]
     },
     "metadata": {
      "needs_background": "light"
     },
     "output_type": "display_data"
    }
   ],
   "source": [
    "if N_features == 2:\n",
    "    plt.scatter(X_original[:,0], X_original[:,1],c = Y)"
   ]
  },
  {
   "cell_type": "markdown",
   "metadata": {
    "id": "uBiGwW31d_2j"
   },
   "source": [
    "# **MinMax normalization of the features**"
   ]
  },
  {
   "cell_type": "code",
   "execution_count": 15,
   "metadata": {
    "id": "v1gQuyTkd_2j"
   },
   "outputs": [],
   "source": [
    "from sklearn.preprocessing import MinMaxScaler\n",
    "min_max_scaler = MinMaxScaler()\n",
    "X = min_max_scaler.fit_transform(X_original)"
   ]
  },
  {
   "cell_type": "code",
   "execution_count": 16,
   "metadata": {},
   "outputs": [
    {
     "data": {
      "image/png": "[encoded data removed]",
      "text/plain": [
       "<Figure size 432x288 with 1 Axes>"
      ]
     },
     "metadata": {
      "needs_background": "light"
     },
     "output_type": "display_data"
    }
   ],
   "source": [
    "if N_features == 2:\n",
    "    plt.scatter(X[:,0],X[:,1], c = Y)"
   ]
  },
  {
   "cell_type": "markdown",
   "metadata": {
    "id": "54_-7Gedd_2k"
   },
   "source": [
    "# **Function for executing the logic**"
   ]
  },
  {
   "cell_type": "code",
   "execution_count": 22,
   "metadata": {
    "id": "_PSVmLHYd_2k"
   },
   "outputs": [],
   "source": [
    "def run_experiment(N_clients: int, \n",
    "                   N_min_clients: int, \n",
    "                   centers: List[np.array], \n",
    "                   dataset_chunks: List[np.array], \n",
    "                   y_chunks: List, \n",
    "                   client_parms: Dict[str, bytes],\n",
    "                   server_params: Dict[str, bytes], \n",
    "                   enabled_print: bool = False, \n",
    "                   random_clients: bool = True,\n",
    "                   random_clients_seed: int = None):\n",
    "    \n",
    "    #Set of the seed for clients initialization\n",
    "    import random\n",
    "    random.seed(random_clients_seed)\n",
    "\n",
    "    # (1) CLIENTS INITIALIZATION ==================================================================\n",
    "    \n",
    "    clients = []\n",
    "\n",
    "    #We create all the clients\n",
    "    for cli in range(N_clients):\n",
    "        \n",
    "        #We take a chunk and create the parameters of the client\n",
    "        client_dataset = dataset_chunks[cli]\n",
    "        params = dict(client_parms)\n",
    "        client_y = y_chunks[cli]\n",
    "        params['dataset'] = client_dataset\n",
    "        params['y_true'] = client_y\n",
    "\n",
    "        #We create the client object and initialize its parameters\n",
    "        client = FCMeansFederatedClient()\n",
    "        client.initialize(params)\n",
    "        \n",
    "        #We add the client to the clients\n",
    "        clients.append(client)\n",
    "\n",
    "    print(f'Starting server, total number of clients {N_clients}, min number of clients {N_min_clients}')\n",
    "\n",
    "    active_clients_idx: List = None\n",
    "        \n",
    "    #If all_clients == true --> we are using all the cliants we have, if not, only a percentage\n",
    "    all_clients = (N_clients == N_min_clients)\n",
    "\n",
    "    # (2) SERVER INITIALIZATION ==================================================================\n",
    "    \n",
    "    #We create a server object and initialize its parameters\n",
    "    server = FCMeansFederatedServer()\n",
    "    server.initialize(server_params)\n",
    "\n",
    "    # (3) FEDERATED TRAINING ====================================================================\n",
    "   \n",
    "    while (server.next_round()):\n",
    "\n",
    "        #We want to pick randomly N_min_clients from the whole set\n",
    "        if (random_clients and not all_clients):\n",
    "            active_clients_idx = random.sample(range(N_clients), N_min_clients)\n",
    "        \n",
    "        centers = server.get_centers()\n",
    "        \n",
    "        client_responses = []\n",
    "        \n",
    "        # client_responses_append is a function, it is called passing the element to be appended\n",
    "        client_responses_append = client_responses.append\n",
    "        \n",
    "        #cli = client index, client = client object\n",
    "        for cli, client in enumerate(clients):\n",
    "            \n",
    "            #We do not consider the contribution of not selected clients\n",
    "            if (not all_clients and cli not in active_clients_idx):\n",
    "                continue\n",
    "            \n",
    "            response = client.evaluate_cluster_assignment(centers)\n",
    "            client_responses_append(response)\n",
    "        \n",
    "        #When all the clients contributions are stored\n",
    "        server.process_clustering_results(client_responses)\n",
    "    \n",
    "    #At the end of all the epochs\n",
    "    centers = server.get_centers()\n",
    "    \n",
    "    # (4) EXECUTING SOME FINAL LOGIC ==================================================================\n",
    "    \n",
    "    #List of ARI VS ground through measure for each client\n",
    "    ari_list = [] \n",
    "    \n",
    "    y_true_list = []\n",
    "    y_pred_list = []\n",
    "    \n",
    "    #We compute ARI VS ground through for each client\n",
    "    for client in clients:\n",
    "        u_matrix,y_pred = client.finalize(centers)\n",
    "        y_true = client.y_true\n",
    "        ari_list.append(ARI(y_true,y_pred))\n",
    "        y_pred_list.extend(y_pred)\n",
    "        y_true_list.extend(y_true)\n",
    "    \n",
    "    # Mean ARI VS ground through in the distributed approach\n",
    "    ari_mean = np.mean(np.asarray(ari_list))\n",
    "    \n",
    "    #Global ARI VS ground through \n",
    "    ari_global = ARI(y_true_list,y_pred_list)\n",
    "\n",
    "    print('\\tmedia: ',ari_mean)\n",
    "    print('\\tglobal:',ari_global)\n",
    "\n",
    "    return server.finalize(enabled_print), ari_mean,ari_global, y_pred_list"
   ]
  },
  {
   "cell_type": "markdown",
   "metadata": {
    "id": "DK68OzfDd_2l"
   },
   "source": [
    "# **Plotting functions**"
   ]
  },
  {
   "cell_type": "code",
   "execution_count": 23,
   "metadata": {
    "id": "evnEs7Ykd_2l"
   },
   "outputs": [],
   "source": [
    "#Plot to show how many rounds are needed to reach the convergence\n",
    "def fn_fnorm_by_round_experiment_plot(all_forms_list, epsilon, dataset_file,N_min_clients_percents,rnd = True):\n",
    "    fig, ax = plt.subplots(figsize = (9,4))\n",
    "\n",
    "    marker = itertools.cycle(('d', 's', 'o', '*','<','>','+','x')) \n",
    "    labels = [f'{label:.2f}' for label in N_min_clients_percents]\n",
    "    \n",
    "    \n",
    "    \n",
    "    val = np.nanmean(all_forms_list,axis = 0)\n",
    "    std = np.nanstd(all_forms_list,axis = 0)\n",
    "    for i in range(len(val)):\n",
    "        Y_values = val[i]\n",
    "        X_labels = [i for i in range(1, len(Y_values) + 1)]\n",
    "        plt.plot(X_labels, Y_values, label = labels[i], marker = next(marker),linestyle = '--')\n",
    "        Y_std = std[i]\n",
    "        plt.fill_between(X_labels, Y_values-Y_std, Y_values+Y_std, alpha = 0.2)\n",
    "\n",
    "    plt.ylim([-0.01,0.1])\n",
    "\n",
    "    #threshold line\n",
    "    X_axis_threshold = [i for i in range(1, max_number_rounds + 1)]\n",
    "    Y_axis_threshold = [epsilon] * max_number_rounds\n",
    "    plt.text(1,epsilon+0.003,r'$\\varepsilon$',size = 14)\n",
    "    plt.plot(X_axis_threshold, Y_axis_threshold , 'k--', alpha=0.9)\n",
    "    plt.xticks(range(1,max_number_rounds+1,2))\n",
    "    plt.grid()\n",
    "\n",
    "    # Labeling the X-axis \n",
    "    plt.xlabel('t (round)',size = 14) \n",
    "    plt.ylabel(r'$||V^{(t+1)} - V^{(t)}||_F$',size = 14) \n",
    "    legend = plt.legend(title=r\"$\\gamma$\",fontsize = 14)\n",
    "    plt.setp(legend.get_title(),fontsize=14)\n",
    "    plt.tight_layout()\n",
    "    plt.savefig('results/'+ds+'_round'+'_random'*rnd+'.pdf',format='pdf',bbox_inches='tight')\n",
    "\n",
    "    plt.show()"
   ]
  },
  {
   "cell_type": "code",
   "execution_count": null,
   "metadata": {
    "id": "b21sz3Yhd_2m"
   },
   "outputs": [],
   "source": [
    "#Plot to show the error wrt the percentage of partecipants (0.25, 0.50, 0.75, 1)\n",
    "def fn_fnorm_by_experiment_plot(N_min_clients_percents_param, fro_list_param,rnd):\n",
    "    plt.figure(figsize=(4, 4))\n",
    "\n",
    "    X_labels = [f'{per:.2f}' for per in N_min_clients_percents_param]\n",
    "    Y_values = fro_list_param.mean(axis = 0)\n",
    "    Y_std = fro_list_param.std(axis = 0)\n",
    "    \n",
    "    plt.plot(X_labels, Y_values,'ko-')\n",
    "    plt.fill_between(X_labels, Y_values-Y_std, Y_values+Y_std, color = 'k',alpha = 0.1)\n",
    "    plt.grid()\n",
    "\n",
    "    # Labeling the X-axis \n",
    "    plt.xlabel(r\"Fraction of participants $\\gamma$\", size = 14) \n",
    "    plt.ylabel(r'$||V_{fed}(\\gamma) - V_{sum}||_F$',size = 14) \n",
    "    plt.tight_layout()\n",
    "    plt.savefig('results/'+ds+'_centr'+'_random'*rnd+'.pdf',format='pdf',bbox_inches='tight')\n",
    "    plt.show()"
   ]
  },
  {
   "cell_type": "markdown",
   "metadata": {
    "id": "tHUrM5HEd_2m"
   },
   "source": [
    "# **Experiment execution function**"
   ]
  },
  {
   "cell_type": "code",
   "execution_count": 25,
   "metadata": {
    "id": "AozEy0zwd_2m"
   },
   "outputs": [],
   "source": [
    "def df_complete_experiment(random_clients:bool = False, \n",
    "                           centers_seed: int = None,\n",
    "                           random_clients_seed: int = None, \n",
    "                           num_splits:int = 10):\n",
    "    centers = generate_random_centers(centers_seed, N_clusters, N_features)\n",
    "\n",
    "    N_clients:int = 20\n",
    "    shuffle_dataset:bool = True\n",
    "    \n",
    "    #Generate chunks\n",
    "    dataset_chunks,y_chunks,all_indices = generate_dataset_chunks(X, Y, N_clients, shuffle = shuffle_dataset,\n",
    "                                                                  mode = mode, shuffle_seed = shuffle_seed, iid_seed = iid_seed)\n",
    "    enabled_print:bool = False\n",
    "\n",
    "    #Set client parameters\n",
    "    client_params: Dict[str, bytes] = {\n",
    "        'distance_fn': numba_norm,\n",
    "    }\n",
    "\n",
    "    #Set server parameters\n",
    "    server_params: Dict[str, bytes] = {\n",
    "        'alpha': alpha,\n",
    "        'max_number_rounds': max_number_rounds,\n",
    "        'num_clusters': N_clusters,\n",
    "        'num_features': N_features,\n",
    "        'num_data': N_data,\n",
    "        'norm_fn': norm_fro,\n",
    "        'centers': centers\n",
    "    }\n",
    "\n",
    "    ### DISTRIBUITED APPROACH, GOES FROM 0.25 to 1.0 percentage of participants from a total of N_clients available participants\n",
    "    N_min_clients_percents: List[float] = [float(1/num_splits* i)  for i in range(1, num_splits + 1)]\n",
    "    print(N_min_clients_percents)\n",
    "    centers_list : List[List] = []\n",
    "    all_forms_list: List[List] = []\n",
    "    ari_clients_list: List[List] = []\n",
    "    ari_clients_global: List[List] = []\n",
    "    all_y_pred_fed: List[List] = []\n",
    "    all_ari_fed_sum: List[List] = []\n",
    "    for i in range(num_splits):\n",
    "        per_clients = N_min_clients_percents[i]\n",
    "        N_min_clients:int = math.floor(N_clients * per_clients)\n",
    "        \n",
    "        #Run the distributed algorithm and save the results\n",
    "        (fnorms, centers),ari_clients_mean,ari_global,y_pred_fed = run_experiment(N_clients, N_min_clients, \n",
    "                                                                                  centers, dataset_chunks, \n",
    "                                                                                  y_chunks, client_params, \n",
    "                                                                                  server_params, enabled_print,\n",
    "                                                                                  random_clients, \n",
    "                                                                                  random_clients_seed = random_clients_seed)\n",
    "        ari_clients_list.append(ari_clients_mean)\n",
    "        ari_clients_global.append(ari_global)\n",
    "        all_forms_list.append(fnorms)\n",
    "        all_y_pred_fed.append(np.asarray(y_pred_fed))\n",
    "        centers_list.append(centers[-1])\n",
    "\n",
    "    #CENTRALIZED APPROACH\n",
    "    N_clients:int = 1\n",
    "    shuffle_dataset:bool = True\n",
    "    dataset_chunks,y_chunks,_ = generate_dataset_chunks(X, Y, N_clients, shuffle = shuffle_dataset)\n",
    "    N_min_clients:int = math.floor(N_clients * per_clients)\n",
    "    \n",
    "    #Run the centralized algorithm and save the results\n",
    "    (fnorms_centralized, centers_centralized),_,_,y_pred_sum = run_experiment(N_clients, N_min_clients, centers, \n",
    "                                                                              dataset_chunks,y_chunks, client_params, \n",
    "                                                                              server_params, enabled_print,\n",
    "                                                                              random_clients, \n",
    "                                                                              random_clients_seed = random_clients_seed)\n",
    "    centralized_app_center = np.array(centers_centralized[-1])\n",
    "    for gamma_pred_fed in all_y_pred_fed:\n",
    "        all_ari_fed_sum.append(ARI(gamma_pred_fed,np.asarray(y_pred_sum)[all_indices]))\n",
    "   \n",
    "    #Return all the results found both for the centralized and the distributed approaches\n",
    "    return (centers_list, \n",
    "            all_forms_list, \n",
    "            centralized_app_center, \n",
    "            fnorms_centralized,\n",
    "            N_min_clients_percents,\n",
    "            ari_clients_list,\n",
    "            ari_clients_global,\n",
    "            all_ari_fed_sum)"
   ]
  },
  {
   "cell_type": "markdown",
   "metadata": {},
   "source": [
    "# **Actual execution of the code**"
   ]
  },
  {
   "cell_type": "code",
   "execution_count": 26,
   "metadata": {
    "id": "TXxhPoHdd_2n"
   },
   "outputs": [
    {
     "name": "stdout",
     "output_type": "stream",
     "text": [
      "0 seed\n"
     ]
    },
    {
     "ename": "NameError",
     "evalue": "name 'centers_list' is not defined",
     "output_type": "error",
     "traceback": [
      "\u001b[1;31m---------------------------------------------------------------------------\u001b[0m",
      "\u001b[1;31mNameError\u001b[0m                                 Traceback (most recent call last)",
      "\u001b[1;32m<ipython-input-26-1fdd3b9a94b2>\u001b[0m in \u001b[0;36m<module>\u001b[1;34m\u001b[0m\n\u001b[0;32m     12\u001b[0m     \u001b[0mprint\u001b[0m\u001b[1;33m(\u001b[0m\u001b[0mrep\u001b[0m\u001b[1;33m,\u001b[0m\u001b[1;34m'seed'\u001b[0m\u001b[1;33m)\u001b[0m\u001b[1;33m\u001b[0m\u001b[1;33m\u001b[0m\u001b[0m\n\u001b[0;32m     13\u001b[0m \u001b[1;33m\u001b[0m\u001b[0m\n\u001b[1;32m---> 14\u001b[1;33m     \u001b[0mcenters_list\u001b[0m\u001b[1;33m,\u001b[0m \u001b[0mall_forms_list\u001b[0m\u001b[1;33m,\u001b[0m \u001b[0mcentralized_app_center\u001b[0m\u001b[1;33m,\u001b[0m \u001b[0mfnorms_centralized\u001b[0m\u001b[1;33m,\u001b[0m \u001b[0mN_min_clients_percents\u001b[0m\u001b[1;33m,\u001b[0m\u001b[1;33m\u001b[0m\u001b[1;33m\u001b[0m\u001b[0m\n\u001b[0m\u001b[0;32m     15\u001b[0m     ari_clients_list,ari_clients_global,all_ari_fed_sum = df_complete_experiment(\n\u001b[0;32m     16\u001b[0m         \u001b[0mrandom_clients\u001b[0m\u001b[1;33m,\u001b[0m\u001b[1;33m\u001b[0m\u001b[1;33m\u001b[0m\u001b[0m\n",
      "\u001b[1;31mNameError\u001b[0m: name 'centers_list' is not defined"
     ]
    }
   ],
   "source": [
    "num_splits = 4\n",
    "random_clients = True\n",
    "\n",
    "fro_list_all = []\n",
    "all_forms_list_all = []\n",
    "ari_clients_list_all = []\n",
    "ari_clients_global_all = []\n",
    "ari_pred_fed_sum_all = []\n",
    "\n",
    "#Execution of the entire experiment 10 times with different seeds (initializations)\n",
    "for rep in range(10):\n",
    "    print(rep,'seed')\n",
    "    \n",
    "    centers_list, all_forms_list, centralized_app_center, fnorms_centralized, N_min_clients_percents, \n",
    "    ari_clients_list,ari_clients_global,all_ari_fed_sum = df_complete_experiment(\n",
    "        random_clients,\n",
    "        rep, # each time different initial cluster centers \n",
    "        rep, # each time different clients selected\n",
    "        num_splits)\n",
    "    \n",
    "    #Save the results of the execution\n",
    "    \n",
    "    fro_list: List[float] = []\n",
    "        \n",
    "    for i in range(num_splits):\n",
    "        center_i = centers_list[i]\n",
    "        fro_list.append(perm_norm_fro(centralized_app_center, center_i))\n",
    "        \n",
    "    fro_list_all.append(fro_list)\n",
    "    \n",
    "    for l in all_forms_list:\n",
    "        l += [np.nan] * (max_number_rounds - len(l))\n",
    "        \n",
    "    all_forms_list_all.append(all_forms_list)\n",
    "    ari_clients_list_all.append(ari_clients_list)\n",
    "    ari_clients_global_all.append(ari_clients_global)\n",
    "    ari_pred_fed_sum_all.append(all_ari_fed_sum)\n",
    "    print()\n",
    "    \n",
    "#Save the entire set of results    \n",
    "fro = np.asarray(fro_list_all)\n",
    "all_fnorms = np.asarray(all_forms_list_all)\n",
    "ari_clients = np.asarray(ari_clients_list_all)\n",
    "ari_global = np.asarray(ari_clients_global_all)\n",
    "ari_fed_sum = np.asarray(ari_pred_fed_sum_all)\n",
    "ari_fed_sum.shape, ari_global.shape"
   ]
  },
  {
   "cell_type": "code",
   "execution_count": 27,
   "metadata": {
    "id": "G84_8u7td_2n"
   },
   "outputs": [
    {
     "ename": "NameError",
     "evalue": "name 'ari_global' is not defined",
     "output_type": "error",
     "traceback": [
      "\u001b[1;31m---------------------------------------------------------------------------\u001b[0m",
      "\u001b[1;31mNameError\u001b[0m                                 Traceback (most recent call last)",
      "\u001b[1;32m<ipython-input-27-ea4a2c28b926>\u001b[0m in \u001b[0;36m<module>\u001b[1;34m\u001b[0m\n\u001b[0;32m      2\u001b[0m \u001b[1;33m\u001b[0m\u001b[0m\n\u001b[0;32m      3\u001b[0m \u001b[0mmetrics\u001b[0m \u001b[1;33m=\u001b[0m \u001b[0mpd\u001b[0m\u001b[1;33m.\u001b[0m\u001b[0mDataFrame\u001b[0m\u001b[1;33m(\u001b[0m\u001b[1;33m)\u001b[0m\u001b[1;33m\u001b[0m\u001b[1;33m\u001b[0m\u001b[0m\n\u001b[1;32m----> 4\u001b[1;33m \u001b[0mmetrics\u001b[0m\u001b[1;33m[\u001b[0m\u001b[1;34m'ari_global_mean'\u001b[0m\u001b[1;33m]\u001b[0m \u001b[1;33m=\u001b[0m \u001b[0mari_global\u001b[0m\u001b[1;33m.\u001b[0m\u001b[0mmean\u001b[0m\u001b[1;33m(\u001b[0m\u001b[0maxis\u001b[0m \u001b[1;33m=\u001b[0m \u001b[1;36m0\u001b[0m\u001b[1;33m)\u001b[0m\u001b[1;33m\u001b[0m\u001b[1;33m\u001b[0m\u001b[0m\n\u001b[0m\u001b[0;32m      5\u001b[0m \u001b[0mmetrics\u001b[0m\u001b[1;33m[\u001b[0m\u001b[1;34m'ari_global_std'\u001b[0m\u001b[1;33m]\u001b[0m \u001b[1;33m=\u001b[0m \u001b[0mari_global\u001b[0m\u001b[1;33m.\u001b[0m\u001b[0mstd\u001b[0m\u001b[1;33m(\u001b[0m\u001b[0maxis\u001b[0m \u001b[1;33m=\u001b[0m \u001b[1;36m0\u001b[0m\u001b[1;33m)\u001b[0m\u001b[1;33m\u001b[0m\u001b[1;33m\u001b[0m\u001b[0m\n\u001b[0;32m      6\u001b[0m \u001b[0mmetrics\u001b[0m\u001b[1;33m[\u001b[0m\u001b[1;34m'ari_clients_mean'\u001b[0m\u001b[1;33m]\u001b[0m \u001b[1;33m=\u001b[0m \u001b[0mari_clients\u001b[0m\u001b[1;33m.\u001b[0m\u001b[0mmean\u001b[0m\u001b[1;33m(\u001b[0m\u001b[0maxis\u001b[0m \u001b[1;33m=\u001b[0m \u001b[1;36m0\u001b[0m\u001b[1;33m)\u001b[0m\u001b[1;33m\u001b[0m\u001b[1;33m\u001b[0m\u001b[0m\n",
      "\u001b[1;31mNameError\u001b[0m: name 'ari_global' is not defined"
     ]
    }
   ],
   "source": [
    "#Plot of the ARI table wrt the percentage of partecipants\n",
    "\n",
    "metrics = pd.DataFrame()\n",
    "metrics['ari_global_mean'] = ari_global.mean(axis = 0)\n",
    "metrics['ari_global_std'] = ari_global.std(axis = 0)\n",
    "metrics['ari_clients_mean'] = ari_clients.mean(axis = 0)\n",
    "metrics['ari_clients_std'] = ari_clients.std(axis = 0)\n",
    "metrics['fro_centers_mean'] = fro.mean(axis = 0)\n",
    "metrics['fro_centers_std'] = fro.std(axis = 0)\n",
    "metrics['ari_pred_fed_mean'] = ari_fed_sum.mean(axis = 0)\n",
    "metrics['ari_pred_fed_std'] = ari_fed_sum.std(axis = 0)\n",
    "\n",
    "metrics = metrics.round(5)\n",
    "metrics.index = [f'{label:.2f}' for label in N_min_clients_percents]\n",
    "metrics\n",
    "metrics.to_csv(f'results/{ds}_metrics.csv')\n",
    "pd.read_csv(f'results/{ds}_metrics.csv', index_col = 0)"
   ]
  },
  {
   "cell_type": "code",
   "execution_count": null,
   "metadata": {
    "id": "1msHeHmCd_2o"
   },
   "outputs": [],
   "source": [
    "fn_fnorm_by_experiment_plot(N_min_clients_percents, fro,rnd = True)"
   ]
  },
  {
   "cell_type": "code",
   "execution_count": null,
   "metadata": {
    "id": "YtAidY1ud_2o"
   },
   "outputs": [],
   "source": [
    "fn_fnorm_by_round_experiment_plot(all_fnorms, epsilon, ds, N_min_clients_percents,rnd = True)"
   ]
  },
  {
   "cell_type": "code",
   "execution_count": null,
   "metadata": {
    "id": "Ba6tMmNzd_2o"
   },
   "outputs": [],
   "source": [
    "centers_list"
   ]
  }
 ],
 "metadata": {
  "colab": {
   "name": "ProgettoDataMining.ipynb",
   "provenance": []
  },
  "kernelspec": {
   "display_name": "Python 3",
   "language": "python",
   "name": "python3"
  },
  "language_info": {
   "codemirror_mode": {
    "name": "ipython",
    "version": 3
   },
   "file_extension": ".py",
   "mimetype": "text/x-python",
   "name": "python",
   "nbconvert_exporter": "python",
   "pygments_lexer": "ipython3",
   "version": "3.8.5"
  }
 },
 "nbformat": 4,
 "nbformat_minor": 1
}
